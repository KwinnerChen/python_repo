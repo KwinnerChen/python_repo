{
 "metadata": {
  "language_info": {
   "codemirror_mode": {
    "name": "ipython",
    "version": 3
   },
   "file_extension": ".py",
   "mimetype": "text/x-python",
   "name": "python",
   "nbconvert_exporter": "python",
   "pygments_lexer": "ipython3",
   "version": "3.8.2-final"
  },
  "orig_nbformat": 2,
  "kernelspec": {
   "name": "python3",
   "display_name": "Python 3.8.2 64-bit",
   "metadata": {
    "interpreter": {
     "hash": "aee8b7b246df8f9039afb4144a1f6fd8d2ca17a180786b69acc140d282b71a49"
    }
   }
  }
 },
 "nbformat": 4,
 "nbformat_minor": 2,
 "cells": [
  {
   "cell_type": "markdown",
   "metadata": {},
   "source": [
    "# 一个简单的使用内置方法来训练一个图片分类模型"
   ]
  },
  {
   "source": [
    "# 构造一个模型（使用MNIST）数据集"
   ],
   "cell_type": "markdown",
   "metadata": {}
  },
  {
   "cell_type": "code",
   "execution_count": 3,
   "metadata": {
    "tags": []
   },
   "outputs": [],
   "source": [
    "import tensorflow as tf\n",
    "\n",
    "\n",
    "mnist = tf.keras.datasets.mnist\n",
    "(x_train, y_train), (x_test, y_test) = mnist.load_data(\"/Users/hafu/Desktop/python_repo/tensorflow_objs/datasets/mnist/mnist.npz\")\n",
    "x_train, x_test = x_train/255.0, x_test/255.0\n",
    "\n",
    "\n",
    "model = tf.keras.models.Sequential([\n",
    "    tf.keras.layers.Flatten(input_shape=(28, 28)),\n",
    "    tf.keras.layers.Dense(128, activation='relu'),\n",
    "    tf.keras.layers.Dropout(0.2),\n",
    "    tf.keras.layers.Dense(10, activation='softmax')\n",
    "])\n",
    "\n",
    "model.compile(optimizer='adam', loss='sparse_categorical_crossentropy', metrics=['accuracy'])\n"
   ]
  },
  {
   "cell_type": "code",
   "execution_count": null,
   "metadata": {
    "tags": []
   },
   "outputs": [],
   "source": [
    "model.fit(x_train, y_train, epochs=5)\n",
    "model.evaluate(x_test, y_test, verbose=2)"
   ]
  },
  {
   "cell_type": "markdown",
   "metadata": {},
   "source": [
    "# 使用Fashion-MNIST数据集"
   ]
  },
  {
   "source": [
    "## Fashion-MNIST数据集简介\n",
    "- 包含十个类别的70000个灰度图像，分辨率为28x28，像素值在0-255之间，每个图像是一个衣服或者鞋子的单品。\n",
    "- 标签是整数数组，介于0-9之间   \n",
    "\n",
    "| 标签 | 类 |   \n",
    "|:-------:|:----------:|  \n",
    "| 0 | T恤/上衣 |\n",
    "| 1 | 裤子 |\n",
    "| 2 | 套头衫 |\n",
    "| 3 | 连衣裙 |\n",
    "| 4 | 外套 |\n",
    "| 5 | 凉鞋 |\n",
    "| 6 | 衬衫 |\n",
    "| 7 | 运动鞋 |\n",
    "| 8 | 包 |\n",
    "| 9 | 短靴 |   \n",
    "\n",
    "- 每个图像都会被映射到一个标签，但是数据集不包括类名，类名名单独存放，稍后用于绘制图像"
   ],
   "cell_type": "markdown",
   "metadata": {}
  },
  {
   "cell_type": "code",
   "execution_count": 1,
   "metadata": {},
   "outputs": [],
   "source": [
    "import tensorflow as tf\n",
    "from tensorflow import keras\n",
    "\n",
    "import numpy as ny\n",
    "import matplotlib.pyplot as plt\n",
    "\n",
    "\n",
    "# 倒入数据集\n",
    "# 数据集将自动分为四部分，分别用于训练和测试\n",
    "fastion_mnist = keras.datasets.fashion_mnist\n",
    "(train_images, train_labels), (test_images, test_labels) = fastion_mnist.load_data()"
   ]
  },
  {
   "cell_type": "code",
   "execution_count": null,
   "metadata": {},
   "outputs": [],
   "source": []
  }
 ]
}