{
 "metadata": {
  "language_info": {
   "codemirror_mode": {
    "name": "ipython",
    "version": 3
   },
   "file_extension": ".py",
   "mimetype": "text/x-python",
   "name": "python",
   "nbconvert_exporter": "python",
   "pygments_lexer": "ipython3",
   "version": 3
  },
  "orig_nbformat": 2,
  "kernelspec": {
   "name": "python_defaultSpec_1596510760366",
   "display_name": "Python 3.8.2 64-bit"
  }
 },
 "nbformat": 4,
 "nbformat_minor": 2,
 "cells": [
  {
   "cell_type": "markdown",
   "metadata": {},
   "source": [
    "# 张量"
   ]
  },
  {
   "cell_type": "markdown",
   "metadata": {},
   "source": [
    "Tensor（张量）类似于numpy的ndarray，但是可以在gpu上加速运算。"
   ]
  },
  {
   "cell_type": "markdown",
   "metadata": {},
   "source": [
    "## 张量的创建"
   ]
  },
  {
   "cell_type": "code",
   "execution_count": 3,
   "metadata": {
    "tags": []
   },
   "outputs": [
    {
     "output_type": "stream",
     "name": "stdout",
     "text": "tensor([[0.0000e+00, 1.0842e-19, 0.0000e+00],\n        [1.0842e-19, 1.2612e-44, 0.0000e+00],\n        [0.0000e+00, 0.0000e+00, 0.0000e+00],\n        [0.0000e+00, 0.0000e+00, 0.0000e+00],\n        [0.0000e+00, 0.0000e+00, 0.0000e+00]])\n"
    }
   ],
   "source": [
    "from __future__ import print_function\n",
    "import torch\n",
    "\n",
    "\n",
    "# 初始化一个空的指定维度的张量\n",
    "# 空张量并不意味指着张量哪没有值，值会被随意填充\n",
    "x = torch.empty(5, 3)\n",
    "print(x)"
   ]
  },
  {
   "cell_type": "code",
   "execution_count": null,
   "metadata": {
    "tags": []
   },
   "outputs": [],
   "source": [
    "# 使用随机值创建一个指定维度的张量\n",
    "# 随机值在0-1之间\n",
    "x = torch.rand(5, 3)\n",
    "print(x)"
   ]
  },
  {
   "cell_type": "code",
   "execution_count": null,
   "metadata": {
    "tags": []
   },
   "outputs": [],
   "source": [
    "# 创造一个由0填充的指定维度的张量\n",
    "# 通过dtype关键字指定数据类型\n",
    "# 数据类型是torch类型，非python本身类型\n",
    "x = torch.zeros(5, 3, dtype=torch.long)\n",
    "print(x)"
   ]
  },
  {
   "cell_type": "code",
   "execution_count": 6,
   "metadata": {
    "tags": []
   },
   "outputs": [
    {
     "output_type": "stream",
     "name": "stdout",
     "text": "tensor([5.3000, 3.0000])\ntensor([[0., 0., 0.],\n        [0., 0., 0.],\n        [0., 0., 0.],\n        [0., 0., 0.],\n        [0., 0., 0.]])\n"
    }
   ],
   "source": [
    "# 当然最直接的张量创建是从多维数组（python列表）直接创建\n",
    "# 列表中的不同number类型在创建过程中会被强制转换\n",
    "# 张量中只能存在一种数据类型\n",
    "import numpy as np\n",
    "\n",
    "ndarray = np.zeros((5, 3))\n",
    "x = torch.Tensor([5.3, 3])\n",
    "y = torch.Tensor(ndarray)\n",
    "print(x)\n",
    "print(y)"
   ]
  },
  {
   "cell_type": "code",
   "execution_count": 21,
   "metadata": {
    "tags": []
   },
   "outputs": [
    {
     "output_type": "stream",
     "name": "stdout",
     "text": "tensor([[1, 1, 1],\n        [1, 1, 1],\n        [1, 1, 1],\n        [1, 1, 1],\n        [1, 1, 1]], dtype=torch.int32)\ntensor([[-0.8157, -0.4413, -0.6714],\n        [-2.0948, -0.2688,  0.5878],\n        [ 0.9025,  1.8613,  0.9745],\n        [-0.8771, -1.7909,  0.1759],\n        [ 0.0830, -0.8906,  2.1953]])\n"
    }
   ],
   "source": [
    "# 可以根据已有的张量创建新的张量\n",
    "# 除非主动声明新的参数，否则原始张量的参数将重用为新的张量\n",
    "x = x.new_ones(5, 3, dtype=torch.int)\n",
    "print(x)\n",
    "\n",
    "x = torch.randn_like(x, dtype=torch.float)\n",
    "print(x)"
   ]
  },
  {
   "cell_type": "code",
   "execution_count": null,
   "metadata": {
    "tags": []
   },
   "outputs": [],
   "source": [
    "# 通过张量对象的自身方法来获取张量的一些属性\n",
    "# 如获取张量的形状\n",
    "print(x.size())"
   ]
  },
  {
   "cell_type": "markdown",
   "metadata": {},
   "source": [
    "## 张量的运算"
   ]
  },
  {
   "cell_type": "markdown",
   "metadata": {},
   "source": [
    "+ **张量的一种运算有多种语法，下面以加法为例说明**"
   ]
  },
  {
   "cell_type": "code",
   "execution_count": 20,
   "metadata": {
    "tags": []
   },
   "outputs": [
    {
     "output_type": "stream",
     "name": "stdout",
     "text": "tensor([[ 1.0380, -0.1613,  0.0968],\n        [-0.7205, -1.3461, -0.3562],\n        [ 2.6907,  1.0537, -1.4699],\n        [-0.7504,  0.9114, -0.9243],\n        [ 0.6866, -0.4212,  0.8608]])\n"
    }
   ],
   "source": [
    "# 使用+运算符\n",
    "y = torch.rand(5, 3)\n",
    "print(x + y)"
   ]
  },
  {
   "cell_type": "code",
   "execution_count": 22,
   "metadata": {
    "tags": []
   },
   "outputs": [
    {
     "output_type": "stream",
     "name": "stdout",
     "text": "tensor([[-0.1338,  0.1246,  0.2279],\n        [-2.0436,  0.0202,  0.7113],\n        [ 1.7398,  2.3485,  1.0245],\n        [-0.4253, -1.7846,  0.2676],\n        [ 0.1148, -0.3181,  2.8808]])\n"
    }
   ],
   "source": [
    "# 使用模块即的加法函数\n",
    "print(torch.add(x, y))"
   ]
  },
  {
   "cell_type": "code",
   "execution_count": 27,
   "metadata": {
    "tags": []
   },
   "outputs": [
    {
     "output_type": "stream",
     "name": "stdout",
     "text": "tensor([[-0.1338,  0.1246,  0.2279],\n        [-2.0436,  0.0202,  0.7113],\n        [ 1.7398,  2.3485,  1.0245],\n        [-0.4253, -1.7846,  0.2676],\n        [ 0.1148, -0.3181,  2.8808]], dtype=torch.float64)\n"
    }
   ],
   "source": [
    "# 可以给出一个张量，作为限定输出格式的参数\n",
    "result = torch.empty(5, 2, dtype=torch.double)\n",
    "torch.add(x, y, out=result)\n",
    "print(result)"
   ]
  },
  {
   "cell_type": "code",
   "execution_count": 28,
   "metadata": {
    "tags": []
   },
   "outputs": [
    {
     "output_type": "stream",
     "name": "stdout",
     "text": "tensor([[-0.1338,  0.1246,  0.2279],\n        [-2.0436,  0.0202,  0.7113],\n        [ 1.7398,  2.3485,  1.0245],\n        [-0.4253, -1.7846,  0.2676],\n        [ 0.1148, -0.3181,  2.8808]])\n"
    }
   ],
   "source": [
    "# 使用张量的内置方法实现原位操作\n",
    "# 任何一个原位操作改变张量的方法后都固定一个_，例如x.copy_(y)、x.t_()将更改x\n",
    "y.add_(x)\n",
    "print(y)"
   ]
  },
  {
   "cell_type": "markdown",
   "metadata": {},
   "source": [
    "+ **张量可以像标准的numpy一样进行索引操作**"
   ]
  },
  {
   "cell_type": "code",
   "execution_count": 29,
   "metadata": {
    "tags": []
   },
   "outputs": [
    {
     "output_type": "stream",
     "name": "stdout",
     "text": "tensor([-0.4413, -0.2688,  1.8613, -1.7909, -0.8906])\n"
    }
   ],
   "source": [
    "print(x[:, 1])"
   ]
  },
  {
   "cell_type": "code",
   "execution_count": 32,
   "metadata": {
    "tags": []
   },
   "outputs": [
    {
     "output_type": "stream",
     "name": "stdout",
     "text": "tensor([[-0.7122,  0.4794,  0.8359,  1.3936],\n        [ 0.4523,  0.3215,  0.8064, -1.0482],\n        [ 0.9320, -1.5026, -1.9578,  0.2176],\n        [-0.6940, -0.4341, -0.1991,  0.9731]])\ntensor([-0.7122,  0.4794,  0.8359,  1.3936,  0.4523,  0.3215,  0.8064, -1.0482,\n         0.9320, -1.5026, -1.9578,  0.2176, -0.6940, -0.4341, -0.1991,  0.9731])\ntensor([[-0.7122,  0.4794,  0.8359,  1.3936,  0.4523,  0.3215,  0.8064, -1.0482],\n        [ 0.9320, -1.5026, -1.9578,  0.2176, -0.6940, -0.4341, -0.1991,  0.9731]])\n"
    }
   ],
   "source": [
    "# 可以通过view方法改变张量的形状\n",
    "# 该方法不是原位操作，有返回值\n",
    "x = torch.randn(4, 4)\n",
    "y = x.view(16)\n",
    "z = x.view(-1, 8)  # 参数-1表示由其它维度参数推测该维度应该是多少\n",
    "print(x)\n",
    "print(y)\n",
    "print(z)"
   ]
  },
  {
   "cell_type": "markdown",
   "metadata": {},
   "source": [
    "+ **当张量只包含单值时，可以使用item()方法来获取相应的python值**"
   ]
  },
  {
   "cell_type": "code",
   "execution_count": 33,
   "metadata": {
    "tags": []
   },
   "outputs": [
    {
     "output_type": "stream",
     "name": "stdout",
     "text": "tensor([1.3032])\n1.3032257556915283\n"
    }
   ],
   "source": [
    "x = torch.randn(1)\n",
    "print(x)\n",
    "print(x.item())"
   ]
  },
  {
   "cell_type": "markdown",
   "metadata": {},
   "source": [
    "## 张量支持超过100种运算操作，包括转置，索引，切片，数学运算，线性代数，随机数等，具体访问[这里](https://pytorch.org/docs/stable/torch.html)。"
   ]
  },
  {
   "cell_type": "markdown",
   "metadata": {},
   "source": [
    "# 桥接NumPy"
   ]
  },
  {
   "cell_type": "markdown",
   "metadata": {},
   "source": [
    "将一个Torch张量转换为一个NumPy数组是轻而易举的事情，反之亦然。\n",
    "\n",
    "**Torch张量和NumPy数组将共享它们的底层内存位置，因此当一个改变时,另外也会改变。**"
   ]
  },
  {
   "cell_type": "code",
   "execution_count": 5,
   "metadata": {
    "tags": []
   },
   "outputs": [
    {
     "output_type": "stream",
     "name": "stdout",
     "text": "tensor([1., 1., 1., 1., 1.])\n"
    }
   ],
   "source": [
    "a = torch.ones(5)\n",
    "print(a)"
   ]
  },
  {
   "cell_type": "code",
   "execution_count": 11,
   "metadata": {
    "tags": []
   },
   "outputs": [
    {
     "output_type": "stream",
     "name": "stdout",
     "text": "[1. 1. 1. 1. 1.]\n"
    }
   ],
   "source": [
    "modulvars = dir()\n",
    "if ('numpy' in modulvars) or ('np' not in modulvars):\n",
    "    import numpy as np\n",
    "\n",
    "b = a.numpy()\n",
    "print(b)"
   ]
  },
  {
   "cell_type": "code",
   "execution_count": 12,
   "metadata": {
    "tags": []
   },
   "outputs": [
    {
     "output_type": "stream",
     "name": "stdout",
     "text": "tensor([2., 2., 2., 2., 2.])\n[2. 2. 2. 2. 2.]\n"
    }
   ],
   "source": [
    "# 共享一块内存位置\n",
    "# 其中一个改变数值后另一个也会体现\n",
    "a.add_(1)\n",
    "print(a)\n",
    "print(b)"
   ]
  },
  {
   "cell_type": "markdown",
   "metadata": {},
   "source": [
    "## 将numpy数组转换为张量"
   ]
  },
  {
   "cell_type": "code",
   "execution_count": 15,
   "metadata": {
    "tags": []
   },
   "outputs": [
    {
     "output_type": "stream",
     "name": "stdout",
     "text": "[2. 2. 2. 2. 2.]\ntensor([2., 2., 2., 2., 2.], dtype=torch.float64)\n"
    }
   ],
   "source": [
    "modulvars = dir()\n",
    "if ('numpy' in modulvars) or ('np' not in modulvars):\n",
    "    import numpy as np\n",
    "\n",
    "# 由numpy数组转换来的张量同样共享一块内存\n",
    "a = np.ones(5)\n",
    "b = torch.from_numpy(a)\n",
    "# b = torch.Tensor(a)  # 这样新建张量对象，不会共享内存\n",
    "np.add(a, 1, out=a)\n",
    "print(a)\n",
    "print(b)"
   ]
  },
  {
   "cell_type": "markdown",
   "metadata": {},
   "source": [
    "## CUDA上的张量"
   ]
  },
  {
   "cell_type": "markdown",
   "metadata": {},
   "source": [
    "+ **张量可以使用.to方法移动到任何设备(device)上**"
   ]
  },
  {
   "cell_type": "code",
   "execution_count": 17,
   "metadata": {},
   "outputs": [],
   "source": [
    "# 当GPU可用时，可以运行以下代码\n",
    "# 使用torch.device来将张量移入和移除GPU\n",
    "if torch.cuda.is_available():\n",
    "    device = torch.device(\"cuda\")            # 创建一个CUDA对象\n",
    "    y = torch.ones_like(x, device=device)    # 直接在GPU上创建张量\n",
    "    x = x.to(device)                         # 或者使用.to(\"cuda\")语法\n",
    "    z = x + y\n",
    "    print(z)\n",
    "    print(z.to(\"cpu\", torch.double))         # .to方法也能在移动时改变数据类型"
   ]
  }
 ]
}